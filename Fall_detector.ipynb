{
  "nbformat": 4,
  "nbformat_minor": 0,
  "metadata": {
    "colab": {
      "name": "Fall detector",
      "provenance": [],
      "collapsed_sections": [],
      "include_colab_link": true
    },
    "kernelspec": {
      "name": "python3",
      "display_name": "Python 3"
    },
    "language_info": {
      "name": "python"
    }
  },
  "cells": [
    {
      "cell_type": "markdown",
      "metadata": {
        "id": "view-in-github",
        "colab_type": "text"
      },
      "source": [
        "<a href=\"https://colab.research.google.com/github/DanielRoblesBallester/imcr/blob/master/Fall_detector.ipynb\" target=\"_parent\"><img src=\"https://colab.research.google.com/assets/colab-badge.svg\" alt=\"Open In Colab\"/></a>"
      ]
    },
    {
      "cell_type": "markdown",
      "source": [
        "\n",
        "# Parametros Ajustables"
      ],
      "metadata": {
        "id": "0oIzBO4rLy6m"
      }
    },
    {
      "cell_type": "code",
      "execution_count": null,
      "metadata": {
        "id": "9gEcnAvGLuh-"
      },
      "outputs": [],
      "source": [
        "#Variables Globales para ajustar el entrenamiento de una manera localizada\n",
        "batch_size = 64 # Tamaño del lote \n",
        "epochs = 15 #Numero de iteraciones en el entrenamiento de nuestra red\n",
        "input_shape = 0\n",
        "num_classes=2\n",
        "\n",
        "img_cols, img_rows = 32, 32"
      ]
    },
    {
      "cell_type": "markdown",
      "source": [
        "# Librerias"
      ],
      "metadata": {
        "id": "WGLDpLf7ME8x"
      }
    },
    {
      "cell_type": "code",
      "source": [
        "import matplotlib.pyplot as plt\n",
        "import numpy as np\n",
        "import pandas as pd\n",
        "import glob\n",
        "import tensorflow as tf\n",
        "import cv2\n",
        "import os as os\n",
        "\n",
        "import sklearn\n",
        "from sklearn.model_selection import train_test_split\n",
        "from sklearn import metrics\n",
        "from sklearn.utils import shuffle\n",
        "\n",
        "\n",
        "from tensorflow import keras\n",
        "from tensorflow.keras.preprocessing import image\n",
        "from tensorflow.keras import models\n",
        "from tensorflow.keras import layers\n",
        "from tensorflow.keras.models import Model\n",
        "from tensorflow.keras.applications.resnet50 import ResNet50\n",
        "from tensorflow.keras.applications.resnet50 import preprocess_input, decode_predictions\n",
        "import sklearn\n",
        "from sklearn.model_selection import train_test_split\n",
        "from sklearn import metrics\n",
        "from tensorflow.keras import models\n",
        "\n",
        "\n",
        "from scipy import ndimage"
      ],
      "metadata": {
        "id": "BUshw9l3MLqM"
      },
      "execution_count": null,
      "outputs": []
    },
    {
      "cell_type": "markdown",
      "source": [
        "# Preparando el DataSet"
      ],
      "metadata": {
        "id": "9O_isc8eMsj8"
      }
    },
    {
      "cell_type": "markdown",
      "source": [
        "**Descargamos el conjunto de imagenes a emplear**\n",
        "\n",
        "Para ello, hemos hecho uso de direct downloaders para poder importar las imagenes de una manera automatica descargandolas (como si tuvieramos nuestro propio servidor de archivos). Por defecto el enlace de google drive nos da un boton de aviso diciendo que el archivo es muy grande, por lo que para bypasear ese aviso tenemos que añadir la parte de confirm=t"
      ],
      "metadata": {
        "id": "tJVIFk1GMwTk"
      }
    },
    {
      "cell_type": "code",
      "source": [
        "!rm -rf *\n",
        "!wget \"https://drive.google.com/uc?export=download&id=1K98TLlyTDYqPLXVFv077gwSu4i5MdCF7&confirm=t\" -O dataSet.tar "
      ],
      "metadata": {
        "colab": {
          "base_uri": "https://localhost:8080/"
        },
        "id": "2lQH2pH7MPtU",
        "outputId": "1a2e3a97-5a5f-44d3-9aa1-f528413933bf"
      },
      "execution_count": null,
      "outputs": [
        {
          "output_type": "stream",
          "name": "stdout",
          "text": [
            "--2022-05-15 10:29:42--  https://drive.google.com/uc?export=download&id=1K98TLlyTDYqPLXVFv077gwSu4i5MdCF7&confirm=t\n",
            "Resolving drive.google.com (drive.google.com)... 172.253.122.102, 172.253.122.100, 172.253.122.139, ...\n",
            "Connecting to drive.google.com (drive.google.com)|172.253.122.102|:443... connected.\n",
            "HTTP request sent, awaiting response... 303 See Other\n",
            "Location: https://doc-04-74-docs.googleusercontent.com/docs/securesc/ha0ro937gcuc7l7deffksulhg5h7mbp1/8sffpa3hse75fm4d2l7n6atf76stgcf9/1652610525000/04348315683320182295/*/1K98TLlyTDYqPLXVFv077gwSu4i5MdCF7?e=download [following]\n",
            "Warning: wildcards not supported in HTTP.\n",
            "--2022-05-15 10:29:43--  https://doc-04-74-docs.googleusercontent.com/docs/securesc/ha0ro937gcuc7l7deffksulhg5h7mbp1/8sffpa3hse75fm4d2l7n6atf76stgcf9/1652610525000/04348315683320182295/*/1K98TLlyTDYqPLXVFv077gwSu4i5MdCF7?e=download\n",
            "Resolving doc-04-74-docs.googleusercontent.com (doc-04-74-docs.googleusercontent.com)... 172.253.115.132, 2607:f8b0:4004:c06::84\n",
            "Connecting to doc-04-74-docs.googleusercontent.com (doc-04-74-docs.googleusercontent.com)|172.253.115.132|:443... connected.\n",
            "HTTP request sent, awaiting response... 200 OK\n",
            "Length: 465190400 (444M) [application/x-tar]\n",
            "Saving to: ‘dataSet.tar’\n",
            "\n",
            "dataSet.tar         100%[===================>] 443.64M  86.4MB/s    in 4.9s    \n",
            "\n",
            "2022-05-15 10:29:48 (90.1 MB/s) - ‘dataSet.tar’ saved [465190400/465190400]\n",
            "\n"
          ]
        }
      ]
    },
    {
      "cell_type": "code",
      "source": [
        "!tar -xf dataSet.tar\n",
        "!rm -rf dataSet.tar"
      ],
      "metadata": {
        "id": "Jbk_lJMJMQw0"
      },
      "execution_count": null,
      "outputs": []
    },
    {
      "cell_type": "markdown",
      "source": [
        "# Cargando el DataSet"
      ],
      "metadata": {
        "id": "WgitUQrVP98Q"
      }
    },
    {
      "cell_type": "code",
      "source": [
        "def load_data():\n",
        "\n",
        "  name_classes = ['caida','pie']\n",
        "  caidas, pie= [],[]\n",
        "\n",
        "  for class_number, class_name in enumerate(name_classes):    # Number of directories\n",
        "    for filename in glob.glob(f'./{class_name}/*.png'):\n",
        "      im = image.load_img(filename, target_size=[img_rows, img_cols], color_mode = 'grayscale')\n",
        "      if class_number==0:\n",
        "        caidas.append(image.img_to_array(im))\n",
        "      else:\n",
        "        pie.append(image.img_to_array(im))\n",
        "\n",
        "  \n",
        "  input_shape = (img_rows, img_cols, 1)\n",
        "\n",
        "  caidas = np.array(caidas).astype(float) / 255 #Normalizamos la muestra de caidas\n",
        "  pie = np.array(pie).astype(float) / 255 #Normalizamos la muestra de pie\n",
        "\n",
        "  return caidas,pie, input_shape"
      ],
      "metadata": {
        "id": "DWmvfyIIQBZy"
      },
      "execution_count": null,
      "outputs": []
    },
    {
      "cell_type": "code",
      "source": [
        "caidas,pie,input_shape=load_data()"
      ],
      "metadata": {
        "id": "-WanB0zjRZqR"
      },
      "execution_count": null,
      "outputs": []
    },
    {
      "cell_type": "code",
      "source": [
        "print(\"Muestra de caidas:\", len(caidas))\n",
        "print(\"Muestra de pie:\", len(pie))"
      ],
      "metadata": {
        "colab": {
          "base_uri": "https://localhost:8080/"
        },
        "id": "-yEuXF1MRmMr",
        "outputId": "c80e3fdc-9b38-458d-cec5-600721ba17b8"
      },
      "execution_count": null,
      "outputs": [
        {
          "output_type": "stream",
          "name": "stdout",
          "text": [
            "Muestra de caidas: 493\n",
            "Muestra de pie: 810\n"
          ]
        }
      ]
    },
    {
      "cell_type": "markdown",
      "source": [
        "# Balanceado\n",
        "Cuenta el total de elementos de cada clase y balancea ambas muestras."
      ],
      "metadata": {
        "id": "QV44KUYJSByu"
      }
    },
    {
      "cell_type": "code",
      "source": [
        "def plotPartitions(plot):\n",
        "  eje_x=[]\n",
        "  eje_y=[]\n",
        "\n",
        "  #Caidas\n",
        "  eje_y.append(plot[0])\n",
        "  eje_x.append(\"Conjunto caidas\")\n",
        "\n",
        "  #Pie\n",
        "  eje_y.append(plot[1])\n",
        "  eje_x.append(\"Conjunto pie\")\n",
        "\n",
        "  ## Creamos Gráfica\n",
        "  plt.bar(eje_x, eje_y)\n",
        "\n",
        "  ## Leyenda en el eje y\n",
        "  plt.ylabel('Cantidad de muestras')\n",
        "\n",
        "  ## Leyenda en el eje x\n",
        "  plt.xlabel('Conjunto de datos')\n",
        "\n",
        "  ## Título de Gráfica\n",
        "  plt.title('Numero de muestras')\n",
        "\n",
        "  ## Mostramos Gráfica\n",
        "  plt.show()\n",
        "\n",
        "  print(\"Tamaño muestra caidas: \",plot[0])\n",
        "  print(\"Tamaño muestra de pie: \",plot[1])"
      ],
      "metadata": {
        "id": "87INiNXYVbL5"
      },
      "execution_count": null,
      "outputs": []
    },
    {
      "cell_type": "code",
      "source": [
        "plot=[len(caidas),len(pie)]\n",
        "plotPartitions(plot)"
      ],
      "metadata": {
        "colab": {
          "base_uri": "https://localhost:8080/",
          "height": 332
        },
        "id": "FXLrVdMfVipe",
        "outputId": "627eec0d-9e28-466a-d948-bdba8b1c7ebd"
      },
      "execution_count": null,
      "outputs": [
        {
          "output_type": "display_data",
          "data": {
            "text/plain": [
              "<Figure size 432x288 with 1 Axes>"
            ],
            "image/png": "[encoded data removed]"
          },
          "metadata": {
            "needs_background": "light"
          }
        },
        {
          "output_type": "stream",
          "name": "stdout",
          "text": [
            "Tamaño muestra caidas:  493\n",
            "Tamaño muestra de pie:  810\n"
          ]
        }
      ]
    },
    {
      "cell_type": "code",
      "source": [
        "def equilibration(caidas, pie):\n",
        "  X,y=[],[]\n",
        "  pie=shuffle(pie)\n",
        "  for i in range(len(caidas)):\n",
        "    X.append(pie[i])\n",
        "    y.append(1)\n",
        "    X.append(caidas[i])\n",
        "    y.append(0)\n",
        "  X,y=shuffle(X,y)\n",
        "  return np.array(X), np.array(y)\n"
      ],
      "metadata": {
        "id": "IZB-BObiYNdc"
      },
      "execution_count": null,
      "outputs": []
    },
    {
      "cell_type": "code",
      "source": [
        "X,y=equilibration(caidas, pie)\n",
        "print(\"Total muestras: \",len(X))"
      ],
      "metadata": {
        "colab": {
          "base_uri": "https://localhost:8080/"
        },
        "id": "K6A0QrxwZvty",
        "outputId": "4b234e51-8674-420c-b5ca-ba3cf5844ac0"
      },
      "execution_count": null,
      "outputs": [
        {
          "output_type": "stream",
          "name": "stdout",
          "text": [
            "Total muestras:  986\n"
          ]
        }
      ]
    },
    {
      "cell_type": "markdown",
      "source": [
        "# Definicion de modelo"
      ],
      "metadata": {
        "id": "GlDJ1DU6aPuv"
      }
    },
    {
      "cell_type": "code",
      "source": [
        "def cnn_modelBasic(input_shape_aux):\n",
        "    model = models.Sequential()\n",
        "\n",
        "    model.add(layers.Conv2D(32, (5, 5), activation='relu', input_shape=input_shape_aux))\n",
        "    model.add(layers.MaxPooling2D(pool_size=(2, 2)))\n",
        "    model.add(layers.Dropout(0.5))\n",
        "\n",
        "    model.add(layers.Conv2D(64, (5, 5), activation='relu'))                                   #Conforme vamos haciendo mas pequeña la imagen vamos aumentando los filtros ya que no es tan costoso computacionalmente al no tener tantos datos\n",
        "    model.add(layers.MaxPooling2D(pool_size=(2, 2)))\n",
        "    model.add(layers.Dropout(0.5))\n",
        "\n",
        "    model.add(layers.Flatten())\n",
        "\n",
        "    model.add(layers.Dense(200, activation='sigmoid'))\n",
        "\n",
        "    model.add(layers.Dense(2, activation='softmax'))\n",
        "    \n",
        "    model.compile(optimizer='adam',\n",
        "              loss='sparse_categorical_crossentropy',\n",
        "              metrics=['accuracy'])\n",
        "\n",
        "    return model"
      ],
      "metadata": {
        "id": "UBuUqA6MaSgG"
      },
      "execution_count": null,
      "outputs": []
    },
    {
      "cell_type": "code",
      "source": [
        "model = cnn_modelBasic(input_shape)"
      ],
      "metadata": {
        "id": "C6JUPtpVaxHd"
      },
      "execution_count": null,
      "outputs": []
    },
    {
      "cell_type": "code",
      "source": [
        "X_train, X_test, Y_train, Y_test = train_test_split(X, y, test_size=0.25, random_state=123)\n",
        "\n",
        "print(f'x_train {X_train.shape} x_test {X_test.shape}')"
      ],
      "metadata": {
        "colab": {
          "base_uri": "https://localhost:8080/"
        },
        "id": "u86rfbumbiKI",
        "outputId": "5a0067d9-a1d7-4386-bcde-e6d3552dc259"
      },
      "execution_count": null,
      "outputs": [
        {
          "output_type": "stream",
          "name": "stdout",
          "text": [
            "x_train (739, 32, 32, 1) x_test (247, 32, 32, 1)\n"
          ]
        }
      ]
    },
    {
      "cell_type": "code",
      "source": [
        "def plot_history(history):\n",
        "  hist = pd.DataFrame(history.history)\n",
        "  hist['epoch'] = history.epoch\n",
        "\n",
        "  plt.figure()\n",
        "  plt.xlabel('Epoch')\n",
        "  plt.ylabel('Accuracy')\n",
        "  plt.plot(hist['epoch'], hist['accuracy'],\n",
        "           label='Train Error')\n",
        "  plt.plot(hist['epoch'], hist['val_accuracy'],\n",
        "           label = 'Val Error')\n",
        "  plt.ylim([0,2.5]) ##change\n",
        "  plt.legend()\n",
        "\n",
        "  plt.figure()\n",
        "  plt.xlabel('Epoch')\n",
        "  plt.ylabel('loss')\n",
        "  plt.plot(hist['epoch'], hist['loss'],\n",
        "           label='Train Error')\n",
        "  plt.plot(hist['epoch'], hist['val_loss'],\n",
        "           label = 'Val Error')\n",
        "  plt.ylim([0,2.5]) ##change\n",
        "  plt.legend()\n",
        "\n",
        "  plt.show()"
      ],
      "metadata": {
        "id": "m0dE7dRqcuck"
      },
      "execution_count": null,
      "outputs": []
    },
    {
      "cell_type": "markdown",
      "source": [
        "# Entrenamiento"
      ],
      "metadata": {
        "id": "2rDArz3OcUFK"
      }
    },
    {
      "cell_type": "code",
      "source": [
        "train_history = model.fit(X_train, Y_train, batch_size=batch_size, epochs=epochs, workers=4,validation_split=0.1, verbose=2)"
      ],
      "metadata": {
        "colab": {
          "base_uri": "https://localhost:8080/"
        },
        "id": "H8diZJrWcWZj",
        "outputId": "5103c9fc-ca63-4ad6-c3df-5d31309ac724"
      },
      "execution_count": null,
      "outputs": [
        {
          "output_type": "stream",
          "name": "stdout",
          "text": [
            "Epoch 1/15\n",
            "11/11 - 1s - loss: 0.1332 - accuracy: 0.9594 - val_loss: 0.1712 - val_accuracy: 0.9459 - 1s/epoch - 108ms/step\n",
            "Epoch 2/15\n",
            "11/11 - 1s - loss: 0.1365 - accuracy: 0.9549 - val_loss: 0.1636 - val_accuracy: 0.9459 - 1s/epoch - 104ms/step\n",
            "Epoch 3/15\n",
            "11/11 - 1s - loss: 0.1195 - accuracy: 0.9594 - val_loss: 0.1696 - val_accuracy: 0.9595 - 1s/epoch - 103ms/step\n",
            "Epoch 4/15\n",
            "11/11 - 1s - loss: 0.1049 - accuracy: 0.9609 - val_loss: 0.1839 - val_accuracy: 0.9459 - 1s/epoch - 102ms/step\n",
            "Epoch 5/15\n",
            "11/11 - 1s - loss: 0.1026 - accuracy: 0.9684 - val_loss: 0.1730 - val_accuracy: 0.9595 - 1s/epoch - 101ms/step\n",
            "Epoch 6/15\n",
            "11/11 - 1s - loss: 0.0943 - accuracy: 0.9684 - val_loss: 0.1946 - val_accuracy: 0.9595 - 1s/epoch - 104ms/step\n",
            "Epoch 7/15\n",
            "11/11 - 1s - loss: 0.0964 - accuracy: 0.9579 - val_loss: 0.2058 - val_accuracy: 0.9324 - 1s/epoch - 103ms/step\n",
            "Epoch 8/15\n",
            "11/11 - 1s - loss: 0.0904 - accuracy: 0.9684 - val_loss: 0.1611 - val_accuracy: 0.9595 - 1s/epoch - 104ms/step\n",
            "Epoch 9/15\n",
            "11/11 - 1s - loss: 0.0833 - accuracy: 0.9729 - val_loss: 0.1636 - val_accuracy: 0.9595 - 1s/epoch - 103ms/step\n",
            "Epoch 10/15\n",
            "11/11 - 1s - loss: 0.0836 - accuracy: 0.9774 - val_loss: 0.1848 - val_accuracy: 0.9595 - 1s/epoch - 104ms/step\n",
            "Epoch 11/15\n",
            "11/11 - 1s - loss: 0.0878 - accuracy: 0.9684 - val_loss: 0.1784 - val_accuracy: 0.9595 - 1s/epoch - 102ms/step\n",
            "Epoch 12/15\n",
            "11/11 - 1s - loss: 0.0777 - accuracy: 0.9729 - val_loss: 0.2439 - val_accuracy: 0.9324 - 1s/epoch - 102ms/step\n",
            "Epoch 13/15\n",
            "11/11 - 1s - loss: 0.0747 - accuracy: 0.9774 - val_loss: 0.1789 - val_accuracy: 0.9595 - 1s/epoch - 102ms/step\n",
            "Epoch 14/15\n",
            "11/11 - 1s - loss: 0.0905 - accuracy: 0.9699 - val_loss: 0.1797 - val_accuracy: 0.9595 - 1s/epoch - 103ms/step\n",
            "Epoch 15/15\n",
            "11/11 - 1s - loss: 0.0852 - accuracy: 0.9699 - val_loss: 0.1761 - val_accuracy: 0.9730 - 1s/epoch - 104ms/step\n"
          ]
        }
      ]
    },
    {
      "cell_type": "code",
      "source": [
        "plot_history(train_history)"
      ],
      "metadata": {
        "colab": {
          "base_uri": "https://localhost:8080/",
          "height": 549
        },
        "id": "nyjldM4Hc3lI",
        "outputId": "0a344e7c-6326-4fdc-efef-d984fc18dd6b"
      },
      "execution_count": null,
      "outputs": [
        {
          "output_type": "display_data",
          "data": {
            "text/plain": [
              "<Figure size 432x288 with 1 Axes>"
            ],
            "image/png": "[encoded data removed]"
          },
          "metadata": {
            "needs_background": "light"
          }
        },
        {
          "output_type": "display_data",
          "data": {
            "text/plain": [
              "<Figure size 432x288 with 1 Axes>"
            ],
            "image/png": "[encoded data removed]"
          },
          "metadata": {
            "needs_background": "light"
          }
        }
      ]
    },
    {
      "cell_type": "markdown",
      "source": [
        "# Test de la red entrenada\n",
        "Se comprueba si se ha realizado un sobreentrenamiento."
      ],
      "metadata": {
        "id": "2Di6lDaodKVt"
      }
    },
    {
      "cell_type": "code",
      "source": [
        "results = model.evaluate(X_test, Y_test, batch_size=128)"
      ],
      "metadata": {
        "colab": {
          "base_uri": "https://localhost:8080/"
        },
        "id": "RVSdA29udTq0",
        "outputId": "ccb9b156-db65-4362-9619-02d4c93f6fd7"
      },
      "execution_count": null,
      "outputs": [
        {
          "output_type": "stream",
          "name": "stdout",
          "text": [
            "2/2 [==============================] - 0s 43ms/step - loss: 0.0358 - accuracy: 0.9879\n"
          ]
        }
      ]
    }
  ]
}